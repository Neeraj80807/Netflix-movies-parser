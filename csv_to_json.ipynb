{
 "cells": [
  {
   "cell_type": "code",
   "execution_count": null,
   "id": "fdcf3096-b923-4bab-8ec5-b6e20bd8f797",
   "metadata": {},
   "outputs": [
    {
     "name": "stdout",
     "output_type": "stream",
     "text": [
      "CSV file <_io.TextIOWrapper name='merged_file.csv' mode='r' encoding='utf-8'> has been successfully converted to JSON and saved as <_io.TextIOWrapper name='output.json' mode='w' encoding='utf-8'>.\n"
     ]
    }
   ],
   "source": [
    "import csv\n",
    "import json\n",
    "\n",
    "csv_file = \"merged_file.csv\"\n",
    "json_file = \"output.json\"\n",
    "\n",
    "data = []\n",
    "with open(csv_file, \"r\", encoding=\"utf-8\") as csv_file:\n",
    "    csv_reader = csv.DictReader(csv_file)\n",
    "    for row in csv_reader:\n",
    "        data.append(row)\n",
    "\n",
    "with open(json_file, \"w\", encoding=\"utf-8\") as json_file:\n",
    "    json.dump(data, json_file, indent=4)\n",
    "\n",
    "print(f\"CSV file {csv_file} has been successfully converted to JSON and saved as {json_file}.\")"
   ]
  },
  {
   "cell_type": "code",
   "execution_count": null,
   "id": "f5b29339-ba04-4c95-a753-2ec5ebcd890c",
   "metadata": {},
   "outputs": [],
   "source": []
  },
  {
   "cell_type": "code",
   "execution_count": null,
   "id": "0d6c01d7-1db6-4edd-848a-f746fb5c4397",
   "metadata": {},
   "outputs": [],
   "source": []
  }
 ],
 "metadata": {
  "kernelspec": {
   "display_name": "Python 3 (ipykernel)",
   "language": "python",
   "name": "python3"
  },
  "language_info": {
   "codemirror_mode": {
    "name": "ipython",
    "version": 3
   },
   "file_extension": ".py",
   "mimetype": "text/x-python",
   "name": "python",
   "nbconvert_exporter": "python",
   "pygments_lexer": "ipython3",
   "version": "3.9.12"
  }
 },
 "nbformat": 4,
 "nbformat_minor": 5
}
